{
 "cells": [
  {
   "cell_type": "code",
   "execution_count": null,
   "metadata": {},
   "outputs": [],
   "source": [
    "# Script to parse Vistext data to UniChart format\n",
    "\n",
    "import os\n",
    "import json"
   ]
  },
  {
   "cell_type": "code",
   "execution_count": 2,
   "metadata": {},
   "outputs": [],
   "source": [
    "# Read json file contents\n",
    "def read_json_file(file_path):\n",
    "    with open(file_path, 'r') as f:\n",
    "        return f.read()"
   ]
  },
  {
   "cell_type": "code",
   "execution_count": 11,
   "metadata": {},
   "outputs": [],
   "source": [
    "# Read json file contents\n",
    "json_file = read_json_file('../VisText-Dataset/mmfact_vistext_annotation/mmfact_vistext_test.json')\n",
    "json_data = json.loads(json_file)"
   ]
  },
  {
   "cell_type": "code",
   "execution_count": 28,
   "metadata": {},
   "outputs": [],
   "source": [
    "# Read csv and for each image id in dataframe, get corresponding text from json and override target column to new text from json file\n",
    "import pandas as pd\n",
    "\n",
    "# Read csv file\n",
    "df = pd.read_csv('./unichart_on_finetuned_vistext_backup.csv')\n",
    "\n",
    "\n",
    "def find_table_by_img_id(data, img_id):\n",
    "    \n",
    "    return \"Table not found for img_id {}\".format(img_id)\n",
    "\n",
    "# For each image id in dataframe, get corresponding text from json and override target column to new text from json file\n",
    "for index, row in df.iterrows():\n",
    "    image_id = row['image_id']\n",
    "\n",
    "    flag = 0\n",
    "    for entry in json_data:\n",
    "        if int(entry[\"img_id\"]) == image_id:\n",
    "            table = entry[\"table\"]\n",
    "            df.at[index, 'target'] = table\n",
    "            flag = 1\n",
    "            break\n",
    "    \n",
    "    if flag == 1:\n",
    "        continue\n",
    "    else:\n",
    "        print(\"Table not found for img_id {}\".format(image_id))\n",
    "\n",
    "# Save updated dataframe to new csv file\n",
    "df.to_csv('./unichart_on_finetuned_vistext_updated.csv', index=False)"
   ]
  },
  {
   "cell_type": "code",
   "execution_count": null,
   "metadata": {},
   "outputs": [],
   "source": []
  }
 ],
 "metadata": {
  "kernelspec": {
   "display_name": "Python 3",
   "language": "python",
   "name": "python3"
  },
  "language_info": {
   "codemirror_mode": {
    "name": "ipython",
    "version": 3
   },
   "file_extension": ".py",
   "mimetype": "text/x-python",
   "name": "python",
   "nbconvert_exporter": "python",
   "pygments_lexer": "ipython3",
   "version": "3.11.5"
  }
 },
 "nbformat": 4,
 "nbformat_minor": 2
}
